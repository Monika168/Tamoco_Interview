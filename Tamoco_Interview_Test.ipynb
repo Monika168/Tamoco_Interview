{
 "cells": [
  {
   "cell_type": "code",
   "execution_count": 1,
   "id": "881b2319",
   "metadata": {},
   "outputs": [],
   "source": [
    "import pyspark\n",
    "from pyspark.sql import SparkSession"
   ]
  },
  {
   "cell_type": "code",
   "execution_count": 2,
   "id": "436c5dfa",
   "metadata": {},
   "outputs": [
    {
     "name": "stderr",
     "output_type": "stream",
     "text": [
      "/home/oem/anaconda3/lib/python3.9/site-packages/pyspark/pandas/__init__.py:50: UserWarning: 'PYARROW_IGNORE_TIMEZONE' environment variable was not set. It is required to set this environment variable to '1' in both driver and executor sides if you use pyarrow>=2.0.0. pandas-on-Spark will set it for you but it does not work if there is a Spark context already launched.\n",
      "  warnings.warn(\n"
     ]
    }
   ],
   "source": [
    "import pyspark\n",
    "from pyspark.sql.functions import col\n",
    "from pyspark.sql.functions import min, max\n",
    "from pyspark.sql.functions import *\n",
    "from pyspark.sql.functions import mean\n",
    "import matplotlib.pyplot as plt\n",
    "import pyspark.sql.functions as F\n",
    "import seaborn as sns\n",
    "from pyspark import pandas"
   ]
  },
  {
   "cell_type": "code",
   "execution_count": 3,
   "id": "032f3234",
   "metadata": {},
   "outputs": [
    {
     "name": "stderr",
     "output_type": "stream",
     "text": [
      "23/06/27 21:25:45 WARN Utils: Your hostname, oem-VivoBook-ASUSLaptop-X571GT-F571GT resolves to a loopback address: 127.0.1.1; using 192.168.1.80 instead (on interface wlp4s0)\n",
      "23/06/27 21:25:45 WARN Utils: Set SPARK_LOCAL_IP if you need to bind to another address\n",
      "Setting default log level to \"WARN\".\n",
      "To adjust logging level use sc.setLogLevel(newLevel). For SparkR, use setLogLevel(newLevel).\n",
      "23/06/27 21:25:46 WARN NativeCodeLoader: Unable to load native-hadoop library for your platform... using builtin-java classes where applicable\n",
      "23/06/27 21:25:46 WARN Utils: Service 'SparkUI' could not bind on port 4040. Attempting port 4041.\n"
     ]
    }
   ],
   "source": [
    "spark = SparkSession.builder.appName(\"Location Ping Data Cleaning\").getOrCreate()"
   ]
  },
  {
   "cell_type": "code",
   "execution_count": 4,
   "id": "a93e39bb",
   "metadata": {},
   "outputs": [
    {
     "name": "stderr",
     "output_type": "stream",
     "text": [
      "\r",
      "[Stage 0:>                                                          (0 + 1) / 1]\r",
      "\r",
      "                                                                                \r"
     ]
    }
   ],
   "source": [
    "df = spark.read.parquet(\"/home/oem/Documents/Tamoco_data_engineering_test/sample_data.snappy.parquet\")"
   ]
  },
  {
   "cell_type": "code",
   "execution_count": 5,
   "id": "0145b3bc",
   "metadata": {},
   "outputs": [
    {
     "name": "stderr",
     "output_type": "stream",
     "text": [
      "23/06/27 21:26:33 WARN package: Truncated the string representation of a plan since it was too large. This behavior can be adjusted by setting 'spark.sql.debug.maxToStringFields'.\n"
     ]
    },
    {
     "name": "stdout",
     "output_type": "stream",
     "text": [
      "+--------------------+---------------+----------+----------+--------------+--------------------+-------------------+-----------+--------------------+--------------+---------+-----------------+-----------+------------+-------+---------+----------+--------+--------+---------------+---------+------------+-------------+--------------+-------+------+---------------+-------------------+------------------+------------------+------+\n",
      "|            FILENAME|FILE_ROW_NUMBER|ACCOUNT_ID|APP_ID_IOS|APP_ID_ANDROID|        CREATED_DATE|         EVENT_DATE|EVENT_EPOCH|           DEVICE_ID|   DEVICE_TYPE|DEVICE_OS|DEVICE_OS_VERSION|DEVICE_MAKE|DEVICE_MODEL|CARRIER| LATITUDE| LONGITUDE|ACCURACY|ALTITUDE|             IP|GEOHASH_6|IS_BIDSTREAM|IS_GB_ALLOWED|CONSENT_STATUS|COUNTRY|REGION|       TIMEZONE|         LOCAL_TIME|IS_GEOHASH_MATCHED|IAB_CONSENT_STATUS|APP_ID|\n",
      "+--------------------+---------------+----------+----------+--------------+--------------------+-------------------+-----------+--------------------+--------------+---------+-----------------+-----------+------------+-------+---------+----------+--------+--------+---------------+---------+------------+-------------+--------------+-------+------+---------------+-------------------+------------------+------------------+------+\n",
      "|dataset=location-...|         201445|       285|      2596|          2597|2021-11-07 04:54:...|2021-11-07 00:25:23| 1636224923|d2f799e1-0c13-4b7...|         PHONE|  Android|            8.0.0|    samsung|   SM-G960U1|311-480|41.549549|-87.732764|     8.0|    null| 69.245.245.139|   dp3s7e|       false|        false|          true|     US|    IL|America/Chicago|2021-11-06 19:25:23|              true|              null|  null|\n",
      "|dataset=location-...|         111132|       285|      2596|          2597|2021-11-07 04:54:...|2021-11-07 00:14:04| 1636224244|ec800b73-5064-4d5...|         PHONE|  Android|               10|    samsung|   SM-S515DL|311-480|41.546689| -87.72934|    20.0|    null| 73.209.146.221|   dp3s7e|       false|        false|          true|     US|    IL|America/Chicago|2021-11-06 19:14:04|              true|              null|  null|\n",
      "|from_td/prod/loca...|        5052755|       286|      2596|          2597|2021-11-07 04:54:...|2021-11-06 06:28:38| 1636160318|49d49b75-29c0-4c0...|UNKNOWN_DEVICE|  Android|             null|       null|        null|   null| 41.54714| -87.73029|    17.0|    null| 172.58.190.143|   dp3s7e|       false|        false|          true|     US|    IL|America/Chicago|2021-11-06 01:28:38|              true|              null|    17|\n",
      "|dataset=location-...|         119299|       285|      2596|          2597|2021-11-07 04:54:...|2021-11-07 02:32:11| 1636232531|1f0a7f35-e548-44f...|         PHONE|  Android|               11|        TCL|       5062W|310-260|41.549143|-87.736759|     9.0|    null|    98.228.0.54|   dp3s7e|       false|        false|          true|     US|    IL|America/Chicago|2021-11-06 21:32:11|              true|              null|  null|\n",
      "|from_td/prod/loca...|        3513327|       286|      2596|          2597|2021-11-07 04:54:...|2021-11-06 07:27:16| 1636163836|7f3ae2fb-a022-49b...|UNKNOWN_DEVICE|  Android|             null|       null|        null|   null|41.548166|-87.727539|     9.0|    null|    98.228.5.81|   dp3s7e|       false|        false|          true|     US|    IL|America/Chicago|2021-11-06 02:27:16|              true|              null|    17|\n",
      "|from_td/prod/loca...|        1193213|       286|      2596|          2597|2021-11-07 04:54:...|2021-11-06 06:29:30| 1636160370|49d49b75-29c0-4c0...|UNKNOWN_DEVICE|  Android|             null|       null|        null|   null|41.547146|-87.730282|    17.0|    null| 172.58.190.143|   dp3s7e|       false|        false|          true|     US|    IL|America/Chicago|2021-11-06 01:29:30|              true|              null|    17|\n",
      "|from_td/prod/loca...|        3540122|       286|      2596|          2597|2021-11-07 04:54:...|2021-11-06 06:09:20| 1636159160|b444a734-2340-431...|UNKNOWN_DEVICE|  Android|             null|       null|        null|   null|42.144144|-88.017346|     4.0|    null| 172.58.160.163|   dp3rv0|       false|        false|          true|     US|    IL|America/Chicago|2021-11-06 01:09:20|              true|              null|    17|\n",
      "|dataset=location-...|         112775|       285|      2596|          2597|2021-11-07 04:54:...|2021-11-06 20:51:41| 1636212101|3576ec15-eb88-482...|         PHONE|  Android|                9|    samsung|    SM-N950U|310-260| 42.14769|-88.017297|    11.0|    null|    76.29.50.68|   dp3rv0|       false|        false|          true|     US|    IL|America/Chicago|2021-11-06 15:51:41|              true|              null|  null|\n",
      "|dataset=location-...|         187568|       285|      2596|          2597|2021-11-07 04:54:...|2021-11-06 20:51:24| 1636212084|b22e3f03-26f0-45a...|         PHONE|  Android|               10|    samsung|   SM-A750FN|310-260|42.144495|-88.012004|    16.0|    null| 98.227.203.113|   dp3rv0|       false|        false|          true|     US|    IL|America/Chicago|2021-11-06 15:51:24|              true|              null|  null|\n",
      "|dataset=location-...|         133993|       285|      2596|          2597|2021-11-07 04:54:...|2021-11-06 23:04:06| 1636220046|bb70243d-75e5-4ef...|         PHONE|  Android|               11|    samsung|    SM-G991U|311-480|42.144802|-88.020531|    15.0|    null|  67.173.82.140|   dp3rv0|       false|        false|          true|     US|    IL|America/Chicago|2021-11-06 18:04:06|              true|              null|  null|\n",
      "|dataset=location-...|         187497|       285|      2596|          2597|2021-11-07 04:54:...|2021-11-06 23:49:08| 1636222748|b22e3f03-26f0-45a...|         PHONE|  Android|               10|    samsung|   SM-A750FN|310-260|42.144495|-88.012004|     8.0|    null| 98.227.203.113|   dp3rv0|       false|        false|          true|     US|    IL|America/Chicago|2021-11-06 18:49:08|              true|              null|  null|\n",
      "|from_td/prod/loca...|        5740806|       286|      2596|          2597|2021-11-07 04:54:...|2021-11-06 14:35:03| 1636189503|c78d8c46-039d-41b...|UNKNOWN_DEVICE|  Android|             null|       null|        null|   null| 42.14797| -88.01462|    13.0|    null| 172.58.141.193|   dp3rv0|       false|        false|          true|     US|    IL|America/Chicago|2021-11-06 09:35:03|              true|              null| 10223|\n",
      "|dataset=location-...|          44560|       285|      2596|          2597|2021-11-07 04:54:...|2021-11-07 01:23:47| 1636228427|5dc0377e-d739-458...|         PHONE|  Android|               11|    samsung|    SM-G981U|310-410|42.144144|-88.017346|    24.0|    null|  99.28.249.242|   dp3rv0|       false|        false|          true|     US|    IL|America/Chicago|2021-11-06 20:23:47|              true|              null|  null|\n",
      "|from_td/prod/loca...|         837932|       286|      2596|          2597|2021-11-07 04:54:...|2021-11-06 06:23:08| 1636159988|034ffe5a-2264-457...|UNKNOWN_DEVICE|  Android|             null|       null|        null|   null|42.144144|-88.017346|    17.0|    null|    73.8.121.10|   dp3rv0|       false|        false|          true|     US|    IL|America/Chicago|2021-11-06 01:23:08|              true|              null|    17|\n",
      "|from_td/prod/loca...|        6825548|       286|      2596|          2597|2021-11-07 04:54:...|2021-11-06 12:20:46| 1636181446|8b940826-1f4e-4d0...|UNKNOWN_DEVICE|  Android|             null|       null|        null|   null|42.144144|-88.017346|     9.0|    null| 172.58.141.160|   dp3rv0|       false|        false|          true|     US|    IL|America/Chicago|2021-11-06 07:20:46|              true|              null|   128|\n",
      "|dataset=location-...|         112770|       285|      2596|          2597|2021-11-07 04:54:...|2021-11-06 21:02:33| 1636212753|3576ec15-eb88-482...|         PHONE|  Android|                9|    samsung|    SM-N950U|310-260| 42.14769|-88.017297|     4.0|    null|    76.29.50.68|   dp3rv0|       false|        false|          true|     US|    IL|America/Chicago|2021-11-06 16:02:33|              true|              null|  null|\n",
      "|dataset=location-...|         212683|       285|      2596|          2597|2021-11-07 04:54:...|2021-11-06 23:27:48| 1636221468|412f68ac-98d6-44d...|         PHONE|  Android|               10|    samsung|    SM-G960U|311-480|42.147317|-88.014772|     8.0|    null|174.207.161.242|   dp3rv0|       false|        false|          true|     US|    IL|America/Chicago|2021-11-06 18:27:48|              true|              null|  null|\n",
      "|dataset=location-...|         212684|       285|      2596|          2597|2021-11-07 04:54:...|2021-11-06 22:32:31| 1636218151|412f68ac-98d6-44d...|         PHONE|  Android|               10|    samsung|    SM-G960U|311-480|42.147317|-88.014772|    17.0|    null|174.207.161.242|   dp3rv0|       false|        false|          true|     US|    IL|America/Chicago|2021-11-06 17:32:31|              true|              null|  null|\n",
      "|dataset=location-...|          44771|       285|      2596|          2597|2021-11-07 04:54:...|2021-11-07 03:08:51| 1636234731|1705bf6d-b98c-4f5...|         PHONE|  Android|               12|     Google|  Pixel 3 XL|311-480|42.144144|-88.017346|    23.0|    null|    73.36.3.107|   dp3rv0|       false|        false|          true|     US|    IL|America/Chicago|2021-11-06 22:08:51|              true|              null|  null|\n",
      "|dataset=location-...|         237510|       285|      2596|          2597|2021-11-07 04:54:...|2021-11-06 20:29:03| 1636210743|3576ec15-eb88-482...|         PHONE|  Android|                9|    samsung|    SM-N950U|310-260|42.147688|-88.017336|    13.0|    null|    76.29.50.68|   dp3rv0|       false|        false|          true|     US|    IL|America/Chicago|2021-11-06 15:29:03|              true|              null|  null|\n",
      "+--------------------+---------------+----------+----------+--------------+--------------------+-------------------+-----------+--------------------+--------------+---------+-----------------+-----------+------------+-------+---------+----------+--------+--------+---------------+---------+------------+-------------+--------------+-------+------+---------------+-------------------+------------------+------------------+------+\n",
      "only showing top 20 rows\n",
      "\n"
     ]
    }
   ],
   "source": [
    "df.show()"
   ]
  },
  {
   "cell_type": "code",
   "execution_count": 6,
   "id": "acb2698d",
   "metadata": {},
   "outputs": [],
   "source": [
    "# Drop the unnecessary columns\n",
    "df = df.drop(\"ALTITUDE\", \"IAB_CONSENT_STATUS\")"
   ]
  },
  {
   "cell_type": "code",
   "execution_count": 7,
   "id": "1a99072c",
   "metadata": {},
   "outputs": [],
   "source": [
    "# Remove the duplicated pings\n",
    "df1 = df.dropDuplicates()"
   ]
  },
  {
   "cell_type": "code",
   "execution_count": 12,
   "id": "a628a300",
   "metadata": {},
   "outputs": [
    {
     "name": "stderr",
     "output_type": "stream",
     "text": [
      "\r",
      "[Stage 6:===============================================>           (4 + 1) / 5]\r"
     ]
    },
    {
     "name": "stdout",
     "output_type": "stream",
     "text": [
      "+--------------------+-------------------+------------+\n",
      "|        CREATED_DATE|         LOCAL_TIME|rang_of_date|\n",
      "+--------------------+-------------------+------------+\n",
      "|2021-11-07 04:54:...|2021-11-06 21:45:57|           1|\n",
      "|2021-11-07 04:54:...|2021-11-06 22:22:09|           1|\n",
      "|2021-11-07 04:54:...|2021-11-06 04:09:59|           1|\n",
      "|2021-11-07 04:54:...|2021-11-06 19:45:05|           1|\n",
      "|2021-11-07 04:54:...|2021-11-06 02:42:30|           1|\n",
      "|2021-11-07 04:54:...|2021-11-06 19:09:13|           1|\n",
      "|2021-11-07 04:54:...|2021-11-06 21:37:44|           1|\n",
      "|2021-11-07 04:54:...|2021-11-06 20:55:46|           1|\n",
      "|2021-11-07 04:54:...|2021-11-06 05:02:41|           1|\n",
      "|2021-11-07 04:54:...|2021-11-06 03:49:31|           1|\n",
      "|2021-11-07 04:54:...|2021-11-06 07:22:14|           1|\n",
      "|2021-11-07 04:54:...|2021-11-06 02:53:29|           1|\n",
      "|2021-11-07 04:54:...|2021-11-06 04:09:46|           1|\n",
      "|2021-11-07 04:54:...|2021-11-06 07:55:41|           1|\n",
      "|2021-11-07 04:54:...|2021-11-06 18:47:19|           1|\n",
      "|2021-11-07 04:54:...|2021-11-06 21:48:54|           1|\n",
      "|2021-11-07 04:54:...|2021-11-06 04:48:30|           1|\n",
      "|2021-11-07 04:54:...|2021-11-06 16:27:19|           1|\n",
      "|2021-11-07 04:54:...|2021-11-06 21:02:29|           1|\n",
      "|2021-11-07 04:54:...|2021-11-06 03:57:26|           1|\n",
      "+--------------------+-------------------+------------+\n",
      "only showing top 20 rows\n",
      "\n"
     ]
    },
    {
     "name": "stderr",
     "output_type": "stream",
     "text": [
      "\r",
      "                                                                                \r"
     ]
    }
   ],
   "source": [
    "# Find the location and time range of data\n",
    "location = df1.select(\"latitude\", \"longitude\")\n",
    "time_range = df1.select(\n",
    "      col(\"CREATED_DATE\"),\n",
    "      col(\"LOCAL_TIME\"),\n",
    "      datediff(col(\"CREATED_DATE\"),col(\"LOCAL_TIME\")).alias(\"rang_of_date\")\n",
    "    ).show()"
   ]
  },
  {
   "cell_type": "code",
   "execution_count": 13,
   "id": "1ba30085",
   "metadata": {},
   "outputs": [
    {
     "name": "stderr",
     "output_type": "stream",
     "text": [
      "[Stage 11:========>                                               (2 + 11) / 13]\r"
     ]
    },
    {
     "name": "stdout",
     "output_type": "stream",
     "text": [
      "+-----------------------+\n",
      "|average_ping_per_device|\n",
      "+-----------------------+\n",
      "|6.349926267395318      |\n",
      "+-----------------------+\n",
      "\n"
     ]
    },
    {
     "name": "stderr",
     "output_type": "stream",
     "text": [
      "\r",
      "                                                                                \r"
     ]
    }
   ],
   "source": [
    "# Calculate the average number of pings per device\n",
    "pings_per_device = df1.groupBy(col(\"device_id\")).count()\n",
    "average_ping_per_device = pings_per_device.select(mean(\"count\").alias(\"average_ping_per_device\")).show(truncate=False)"
   ]
  },
  {
   "cell_type": "code",
   "execution_count": 14,
   "id": "bb148866",
   "metadata": {},
   "outputs": [
    {
     "name": "stderr",
     "output_type": "stream",
     "text": [
      "                                                                                \r"
     ]
    },
    {
     "data": {
      "text/plain": [
       "<seaborn.axisgrid.FacetGrid at 0x7f375c34c2e0>"
      ]
     },
     "execution_count": 14,
     "metadata": {},
     "output_type": "execute_result"
    },
    {
     "data": {
      "image/png": "[encoded data removed]",
      "text/plain": [
       "<Figure size 441.125x360 with 1 Axes>"
      ]
     },
     "metadata": {
      "needs_background": "light"
     },
     "output_type": "display_data"
    }
   ],
   "source": [
    "# Plot the distribution of accuracy of android devices\n",
    "\n",
    "sample_df = df1.select(['accuracy'])\n",
    "\n",
    "pandas_df = sample_df.toPandas()\n",
    "\n",
    "sns.displot(pandas_df)"
   ]
  },
  {
   "cell_type": "code",
   "execution_count": 15,
   "id": "db7ef3cc",
   "metadata": {},
   "outputs": [
    {
     "name": "stderr",
     "output_type": "stream",
     "text": [
      "[Stage 24:=================>                                       (4 + 9) / 13]\r"
     ]
    },
    {
     "name": "stdout",
     "output_type": "stream",
     "text": [
      "+--------------------+---------+----------+-------------------+----+\n",
      "|           device_id| LATITUDE| LONGITUDE|         EVENT_DATE|ping|\n",
      "+--------------------+---------+----------+-------------------+----+\n",
      "|68c8b8d2-b219-4d7...| 41.35127|-87.950295|2021-11-07 03:14:26|   4|\n",
      "|cc6050f6-9e5e-41f...|41.880201|-87.750931|2021-11-07 00:19:58|   4|\n",
      "|abeaa9f9-a555-4c2...|41.875292|-87.682192|2021-11-07 02:15:56|   4|\n",
      "|f58d7359-ef07-4c2...|42.072072|-88.257159|2021-11-07 01:59:58|   4|\n",
      "|73db740d-feb1-47d...|  41.5368|-87.791021|2021-11-06 07:49:25|   3|\n",
      "|ca7569e9-1647-46e...|41.825904|-87.668254|2021-11-06 08:39:27|   3|\n",
      "|53873e04-b9d8-400...|  41.7966|-88.105805|2021-11-07 02:24:34|   3|\n",
      "|6fc594a1-c675-4bb...|41.529032|-87.357088|2021-11-07 02:49:46|   3|\n",
      "|f62d4c52-c99a-451...|41.867396|-88.015575|2021-11-06 07:20:55|   3|\n",
      "|7ecfa31e-256e-498...|41.945945|-87.694743|2021-11-07 03:14:08|   3|\n",
      "|5db7aded-cdcb-43b...|41.980053|-87.827747|2021-11-07 01:43:41|   3|\n",
      "|9004aa95-e620-465...|42.129189|-87.967209|2021-11-07 03:01:25|   3|\n",
      "|2adc83ff-81d6-4d7...|41.129252|-87.874193|2021-11-07 03:21:38|   3|\n",
      "|04e4d2ab-ad76-4e7...| 41.92189| -87.72159|2021-11-06 22:17:12|   3|\n",
      "|b6314f02-3fdb-4c6...|42.173731|-88.433653|2021-11-07 02:37:20|   3|\n",
      "|ce8dbe65-0dd5-4a5...| 42.05811|-87.841937|2021-11-07 03:19:41|   3|\n",
      "|9d60cf6e-ecd0-47c...|41.753651|-88.220187|2021-11-07 02:24:50|   3|\n",
      "|1b4e6282-2694-450...|40.879338|-88.275629|2021-11-06 23:00:20|   3|\n",
      "|ee4a793b-43ec-4cb...|41.971683| -87.71654|2021-11-06 15:11:58|   3|\n",
      "|f7927f37-418c-4c3...|41.507365|-87.313792|2021-11-06 23:22:01|   3|\n",
      "+--------------------+---------+----------+-------------------+----+\n",
      "only showing top 20 rows\n",
      "\n"
     ]
    },
    {
     "name": "stderr",
     "output_type": "stream",
     "text": [
      "\r",
      "                                                                                \r"
     ]
    }
   ],
   "source": [
    "# Find the hour in which devices sent the most pings\n",
    "hour_with_most_ping = df1.select(col('device_id'),col('LATITUDE'),col('LONGITUDE'),col('EVENT_DATE')).groupBy(\"device_id\",\"LATITUDE\",\"LONGITUDE\",\"EVENT_DATE\").count().sort(\"count\",ascending=False).withColumnRenamed(\"count\",\"ping\").show()\n"
   ]
  },
  {
   "cell_type": "code",
   "execution_count": 16,
   "id": "7f9b70d0",
   "metadata": {},
   "outputs": [],
   "source": [
    "#Find the number of redundant pings in the data set. If a device sends more than 2 pings with a rate greater than 1 ping/hour from the same location (the same latitude/longitude), pings exceptthe first and last ones are redundant.\n",
    "def find_redundant_pings(hour_with_most_ping):\n",
    "    grouped_df = hour_with_most_ping.groupby(\"device_id\")\n",
    "    redundant_pings = []\n",
    "    for device_id, ping in grouped_df:\n",
    "        if len(ping) > 2:\n",
    "            for i in range(1, len(ping) - 1):\n",
    "                if ping[i - 1][\"EVENT_DATE\"] - ping[i][\"EVENT_DATE\"] < 3600 & hour_with_most_ping.select(\"LATITUDE\") == hour_with_most_ping.select(\"LONGITUDE\"):\n",
    "                    redundant_pings.append(ping[i])\n",
    "    redundant_pings_df = grouped_df.to_frame().drop([\"count\", \"size\"], axis=1)\n",
    "    return redundant_pings_df\n"
   ]
  },
  {
   "cell_type": "code",
   "execution_count": null,
   "id": "21e3dcde",
   "metadata": {},
   "outputs": [],
   "source": []
  }
 ],
 "metadata": {
  "kernelspec": {
   "display_name": "Python 3 (ipykernel)",
   "language": "python",
   "name": "python3"
  },
  "language_info": {
   "codemirror_mode": {
    "name": "ipython",
    "version": 3
   },
   "file_extension": ".py",
   "mimetype": "text/x-python",
   "name": "python",
   "nbconvert_exporter": "python",
   "pygments_lexer": "ipython3",
   "version": "3.9.12"
  }
 },
 "nbformat": 4,
 "nbformat_minor": 5
}
